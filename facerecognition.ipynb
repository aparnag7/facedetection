{
 "cells": [
  {
   "cell_type": "markdown",
   "metadata": {},
   "source": [
    "Import Libraries"
   ]
  },
  {
   "cell_type": "code",
   "execution_count": 2,
   "metadata": {},
   "outputs": [],
   "source": [
    "import cv2\n",
    "import sys"
   ]
  },
  {
   "cell_type": "markdown",
   "metadata": {},
   "source": [
    "XML files"
   ]
  },
  {
   "cell_type": "code",
   "execution_count": 4,
   "metadata": {},
   "outputs": [],
   "source": [
    "face_cascade = cv2.CascadeClassifier('haarcascade_frontalface_default.xml')\n",
    "eye_cascade = cv2.CascadeClassifier('haarcascade_eye.xml')"
   ]
  },
  {
   "cell_type": "code",
   "execution_count": 5,
   "metadata": {},
   "outputs": [
    {
     "name": "stdout",
     "output_type": "stream",
     "text": [
      "Jim size <class 'numpy.ndarray'>\n",
      "Jim shape (463, 717, 3)\n",
      "[[[112 112 119]\n",
      "  [114 114 121]\n",
      "  [117 117 124]\n",
      "  ...\n",
      "  [ 31  48  84]\n",
      "  [ 31  48  84]\n",
      "  [ 31  48  84]]\n",
      "\n",
      " [[109 109 115]\n",
      "  [110 110 117]\n",
      "  [112 112 119]\n",
      "  ...\n",
      "  [ 19  37  73]\n",
      "  [ 19  37  73]\n",
      "  [ 19  37  73]]\n",
      "\n",
      " [[109 109 115]\n",
      "  [110 110 117]\n",
      "  [112 112 119]\n",
      "  ...\n",
      "  [ 17  34  70]\n",
      "  [ 17  34  70]\n",
      "  [ 17  34  70]]\n",
      "\n",
      " ...\n",
      "\n",
      " [[ 21  17  20]\n",
      "  [ 21  17  20]\n",
      "  [ 21  17  20]\n",
      "  ...\n",
      "  [ 20  24  28]\n",
      "  [ 19  22  26]\n",
      "  [ 19  22  26]]\n",
      "\n",
      " [[ 22  19  21]\n",
      "  [ 22  19  21]\n",
      "  [ 22  19  21]\n",
      "  ...\n",
      "  [ 25  28  32]\n",
      "  [ 24  27  31]\n",
      "  [ 24  27  31]]\n",
      "\n",
      " [[ 33  30  33]\n",
      "  [ 33  30  33]\n",
      "  [ 33  30  33]\n",
      "  ...\n",
      "  [ 32  35  39]\n",
      "  [ 31  34  38]\n",
      "  [ 31  34  38]]]\n"
     ]
    }
   ],
   "source": [
    "jim_halpert = cv2.imread(\"jim.jpeg\",1)\n",
    "print(\"Jim size\" , type(jim_halpert))\n",
    "print(\"Jim shape\",jim_halpert.shape)\n",
    "print(jim_halpert)"
   ]
  },
  {
   "cell_type": "markdown",
   "metadata": {},
   "source": [
    "Detects faces"
   ]
  },
  {
   "cell_type": "code",
   "execution_count": 17,
   "metadata": {},
   "outputs": [],
   "source": [
    "faces = face_cascade.detectMultiScale(jim_halpert,scaleFactor=1.1,minNeighbors=3)"
   ]
  },
  {
   "cell_type": "code",
   "execution_count": null,
   "metadata": {
    "scrolled": true
   },
   "outputs": [],
   "source": [
    "for (x,y,w,h) in faces:\n",
    "    print(\"x\",x)\n",
    "    print(\"y\",y)\n",
    "    print(\"w\",w)\n",
    "    print(\"h\",h)\n",
    "    cv2.rectangle(jim_halpert,(x,y),(x+w,y+h),(0,255,0),1)"
   ]
  },
  {
   "cell_type": "code",
   "execution_count": null,
   "metadata": {},
   "outputs": [],
   "source": [
    "while cv2.waitKey(1) == -1:\n",
    "    cv2.imshow(\"Jimothy\",jim_halpert)"
   ]
  },
  {
   "cell_type": "code",
   "execution_count": null,
   "metadata": {},
   "outputs": [],
   "source": [
    "cv2.destroyAllWindows()"
   ]
  },
  {
   "cell_type": "markdown",
   "metadata": {},
   "source": [
    "Using Webcam"
   ]
  },
  {
   "cell_type": "code",
   "execution_count": null,
   "metadata": {},
   "outputs": [],
   "source": [
    "webcam = cv2.VideoCapture(0)"
   ]
  },
  {
   "cell_type": "code",
   "execution_count": 11,
   "metadata": {},
   "outputs": [],
   "source": [
    "while True:\n",
    "    ret , frame = webcam.read()\n",
    "    gray = cv2.cvtColor(frame,cv2.COLOR_BGR2GRAY)\n",
    "    faces = face_cascade.detectMultiScale(gray,1.1,minNeighbors=4)\n",
    "    \n",
    "    for(x,y,w,z) in faces:\n",
    "        cv2.rectangle(frame,(x,y),(x+w,y+h),(255,0,0),2)\n",
    "    cv2.imshow('webcam',frame)\n",
    "    \n",
    "    if cv2.waitKey(1) & 0xFF == ord('q'):\n",
    "        break\n",
    "webcam.release()"
   ]
  },
  {
   "cell_type": "code",
   "execution_count": 12,
   "metadata": {},
   "outputs": [],
   "source": [
    "cv2.destroyAllWindows()"
   ]
  },
  {
   "cell_type": "code",
   "execution_count": null,
   "metadata": {},
   "outputs": [],
   "source": []
  }
 ],
 "metadata": {
  "kernelspec": {
   "display_name": "Python 3",
   "language": "python",
   "name": "python3"
  },
  "language_info": {
   "codemirror_mode": {
    "name": "ipython",
    "version": 3
   },
   "file_extension": ".py",
   "mimetype": "text/x-python",
   "name": "python",
   "nbconvert_exporter": "python",
   "pygments_lexer": "ipython3",
   "version": "3.8.3"
  }
 },
 "nbformat": 4,
 "nbformat_minor": 4
}
